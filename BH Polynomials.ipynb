{
 "cells": [
  {
   "cell_type": "code",
   "execution_count": 1,
   "id": "8d70673e",
   "metadata": {},
   "outputs": [],
   "source": [
    "from sympy import *"
   ]
  },
  {
   "cell_type": "code",
   "execution_count": 371,
   "id": "b40aa144",
   "metadata": {},
   "outputs": [],
   "source": [
    "n , k = symbols('n, k')\n",
    "c6 = Function('c6')\n",
    "c5 = Function('c5')"
   ]
  },
  {
   "cell_type": "code",
   "execution_count": 24,
   "id": "c6ca9089",
   "metadata": {},
   "outputs": [],
   "source": [
    "f0 = lambda n, k: 1\n",
    "f1 = lambda n, k: k"
   ]
  },
  {
   "cell_type": "code",
   "execution_count": 100,
   "id": "46443345",
   "metadata": {},
   "outputs": [
    {
     "data": {
      "text/latex": [
       "$\\displaystyle k^{2} - n$"
      ],
      "text/plain": [
       "k**2 - n"
      ]
     },
     "execution_count": 100,
     "metadata": {},
     "output_type": "execute_result"
    }
   ],
   "source": [
    "f2 = lambda n, k: k * f1(n, k) - 1 * n * f0(n, k)\n",
    "expand(f2(n, k))"
   ]
  },
  {
   "cell_type": "code",
   "execution_count": 39,
   "id": "fcd1fc66",
   "metadata": {},
   "outputs": [
    {
     "data": {
      "text/latex": [
       "$\\displaystyle k^{3} - 3 k n$"
      ],
      "text/plain": [
       "k**3 - 3*k*n"
      ]
     },
     "execution_count": 39,
     "metadata": {},
     "output_type": "execute_result"
    }
   ],
   "source": [
    "f3 = lambda n, k:  k * f2(n, k) - 2 * n * f1(n, k)\n",
    "expand(f3(n, k))"
   ]
  },
  {
   "cell_type": "code",
   "execution_count": 377,
   "id": "7eac2eae",
   "metadata": {},
   "outputs": [
    {
     "data": {
      "text/latex": [
       "$\\displaystyle k^{4} - 6 k^{2} n + 3 n^{2} + 2 n$"
      ],
      "text/plain": [
       "k**4 - 6*k**2*n + 3*n**2 + 2*n"
      ]
     },
     "execution_count": 377,
     "metadata": {},
     "output_type": "execute_result"
    }
   ],
   "source": [
    "f4 = lambda n, k:  k * f3(n, k) - 3 * n * f2(n, k) + 2 * n\n",
    "expand(f4(n, k))"
   ]
  },
  {
   "cell_type": "code",
   "execution_count": 378,
   "id": "28d52775",
   "metadata": {},
   "outputs": [
    {
     "data": {
      "text/latex": [
       "$\\displaystyle k^{4} - 6 k^{2} n + 3 n^{2} + 2 n$"
      ],
      "text/plain": [
       "k**4 - 6*k**2*n + 3*n**2 + 2*n"
      ]
     },
     "execution_count": 378,
     "metadata": {},
     "output_type": "execute_result"
    }
   ],
   "source": [
    "expand((f4(n+1, k+1) + f4(n+1, k-1))/2 )"
   ]
  },
  {
   "cell_type": "code",
   "execution_count": 484,
   "id": "f29cda28",
   "metadata": {},
   "outputs": [
    {
     "data": {
      "text/latex": [
       "$\\displaystyle k^{5} - 10 k^{3} n + 15 k n^{2} + 10 k n$"
      ],
      "text/plain": [
       "k**5 - 10*k**3*n + 15*k*n**2 + 10*k*n"
      ]
     },
     "execution_count": 484,
     "metadata": {},
     "output_type": "execute_result"
    }
   ],
   "source": [
    "f5 = lambda n, k:  k * f4(n, k) - 4 * n * f3(n, k) + 8 * n * k\n",
    "expand(f5(n, k))"
   ]
  },
  {
   "cell_type": "code",
   "execution_count": 230,
   "id": "b9d28d1f",
   "metadata": {},
   "outputs": [
    {
     "data": {
      "text/latex": [
       "$\\displaystyle k^{5} - 10 k^{3} n + 15 k n^{2} + 10 k n$"
      ],
      "text/plain": [
       "k**5 - 10*k**3*n + 15*k*n**2 + 10*k*n"
      ]
     },
     "execution_count": 230,
     "metadata": {},
     "output_type": "execute_result"
    }
   ],
   "source": [
    "expand((f5(n+1, k+1) + f5(n+1, k-1))/2 )"
   ]
  },
  {
   "cell_type": "code",
   "execution_count": 231,
   "id": "cd683968",
   "metadata": {},
   "outputs": [
    {
     "data": {
      "text/latex": [
       "$\\displaystyle k^{6} - 15 k^{4} n + 45 k^{2} n^{2} + 30 k^{2} n - 15 n^{3} - 30 n^{2} - 16 n$"
      ],
      "text/plain": [
       "k**6 - 15*k**4*n + 45*k**2*n**2 + 30*k**2*n - 15*n**3 - 30*n**2 - 16*n"
      ]
     },
     "execution_count": 231,
     "metadata": {},
     "output_type": "execute_result"
    }
   ],
   "source": [
    "f6 = lambda n, k:  k * f5(n, k) - 5 * n * f4(n, k) + 20 * n * k ** 2 - 16 * n - 20 * n ** 2\n",
    "expand(f6(n, k))"
   ]
  },
  {
   "cell_type": "code",
   "execution_count": 232,
   "id": "54d584a4",
   "metadata": {},
   "outputs": [
    {
     "data": {
      "text/latex": [
       "$\\displaystyle 0$"
      ],
      "text/plain": [
       "0"
      ]
     },
     "execution_count": 232,
     "metadata": {},
     "output_type": "execute_result"
    }
   ],
   "source": [
    "expand((f6(n+1, k+1) + f6(n+1, k-1))/2 ) - expand(f6(n, k))"
   ]
  },
  {
   "cell_type": "code",
   "execution_count": 225,
   "id": "642a6707",
   "metadata": {},
   "outputs": [
    {
     "data": {
      "text/latex": [
       "$\\displaystyle 4 n \\left(5 k^{2} - 5 n - 4\\right)$"
      ],
      "text/plain": [
       "4*n*(5*k**2 - 5*n - 4)"
      ]
     },
     "execution_count": 225,
     "metadata": {},
     "output_type": "execute_result"
    }
   ],
   "source": [
    "simplify(20 * n * k ** 2 - 36 * n - 20 * n ** 2 + 20 * n)"
   ]
  },
  {
   "cell_type": "code",
   "execution_count": 409,
   "id": "33bf0b2b",
   "metadata": {},
   "outputs": [
    {
     "data": {
      "text/latex": [
       "$\\displaystyle 4 n \\left(5 k^{2} - 5 n - 4\\right)$"
      ],
      "text/plain": [
       "4*n*(5*k**2 - 5*n - 4)"
      ]
     },
     "execution_count": 409,
     "metadata": {},
     "output_type": "execute_result"
    }
   ],
   "source": [
    "2 * n * f0(n,k)\n",
    "8 * n * f1(n, k)\n",
    "simplify(20 * n *(f2(n, k)) - 16 * n * f0(n,k))"
   ]
  },
  {
   "cell_type": "code",
   "execution_count": null,
   "id": "953338e8",
   "metadata": {},
   "outputs": [],
   "source": []
  },
  {
   "cell_type": "code",
   "execution_count": 401,
   "id": "a652f30e",
   "metadata": {},
   "outputs": [
    {
     "data": {
      "text/latex": [
       "$\\displaystyle k^{6} - 15 k^{4} n + 45 k^{2} n^{2} + 30 k^{2} n - 15 n^{3} - 30 n^{2} - 16 n$"
      ],
      "text/plain": [
       "k**6 - 15*k**4*n + 45*k**2*n**2 + 30*k**2*n - 15*n**3 - 30*n**2 - 16*n"
      ]
     },
     "execution_count": 401,
     "metadata": {},
     "output_type": "execute_result"
    }
   ],
   "source": [
    "f7 = lambda n, k:  k * f6(n, k) - 6 * n * f5(n, k) + 40 * n * f3(n, k) - 96 * n * f1(n, k)\n",
    "expand(f6(n, k))"
   ]
  },
  {
   "cell_type": "code",
   "execution_count": 402,
   "id": "adacc2eb",
   "metadata": {},
   "outputs": [
    {
     "data": {
      "text/latex": [
       "$\\displaystyle 0$"
      ],
      "text/plain": [
       "0"
      ]
     },
     "execution_count": 402,
     "metadata": {},
     "output_type": "execute_result"
    }
   ],
   "source": [
    "expand((f7(n+1, k+1) + f7(n+1, k-1))/2 ) - expand(f7(n, k))"
   ]
  },
  {
   "cell_type": "code",
   "execution_count": 408,
   "id": "53da835d",
   "metadata": {},
   "outputs": [
    {
     "data": {
      "text/latex": [
       "$\\displaystyle 8 k n \\left(5 k^{2} - 15 n - 12\\right)$"
      ],
      "text/plain": [
       "8*k*n*(5*k**2 - 15*n - 12)"
      ]
     },
     "execution_count": 408,
     "metadata": {},
     "output_type": "execute_result"
    }
   ],
   "source": [
    "simplify(40 * n * f3(n, k) - 96 * n * f1(n, k))"
   ]
  },
  {
   "cell_type": "code",
   "execution_count": 418,
   "id": "c8e80d85",
   "metadata": {},
   "outputs": [
    {
     "data": {
      "text/latex": [
       "$\\displaystyle 0$"
      ],
      "text/plain": [
       "0"
      ]
     },
     "execution_count": 418,
     "metadata": {},
     "output_type": "execute_result"
    }
   ],
   "source": [
    "f8 = lambda n, k:  k * f7(n, k) - 7 * n * f6(n, k) + 70 * n * f4(n, k) - 336 * n * f2(n, k) + 272 * n * f0(n, k)\n",
    "expand((f8(n+1, k+1) + f8(n+1, k-1))/2 ) - expand(f8(n, k))\n"
   ]
  },
  {
   "cell_type": "code",
   "execution_count": 427,
   "id": "225c4f0e",
   "metadata": {},
   "outputs": [
    {
     "data": {
      "text/latex": [
       "$\\displaystyle 0$"
      ],
      "text/plain": [
       "0"
      ]
     },
     "execution_count": 427,
     "metadata": {},
     "output_type": "execute_result"
    }
   ],
   "source": [
    "f9 = lambda n, k:  k * f8(n, k) - 8 * n * f7(n, k) + 112 * n * f5(n, k) - 896 * n * f3(n, k) + 2176 * n * f1(n, k)\n",
    "expand((f9(n+1, k+1) + f9(n+1, k-1))/2 ) - expand(f9(n, k))"
   ]
  },
  {
   "cell_type": "code",
   "execution_count": 442,
   "id": "2aeec120",
   "metadata": {},
   "outputs": [
    {
     "data": {
      "text/latex": [
       "$\\displaystyle 0$"
      ],
      "text/plain": [
       "0"
      ]
     },
     "execution_count": 442,
     "metadata": {},
     "output_type": "execute_result"
    }
   ],
   "source": [
    "f10 = lambda n, k:  k * f9(n, k) - 9 * n * f8(n, k) + 168 * n * f6(n, k) - 2016 * n * f4(n, k) + 9792 * n * f2(n, k) - 7936 * n * f0(n, k)\n",
    "expand((f10(n+1, k+1) + f10(n+1, k-1))/2 ) - expand(f10(n, k))"
   ]
  },
  {
   "cell_type": "code",
   "execution_count": 449,
   "id": "33f4b228",
   "metadata": {},
   "outputs": [
    {
     "data": {
      "text/latex": [
       "$\\displaystyle 0$"
      ],
      "text/plain": [
       "0"
      ]
     },
     "execution_count": 449,
     "metadata": {},
     "output_type": "execute_result"
    }
   ],
   "source": [
    "f11 = lambda n, k:  k * f10(n, k) - 10 * n * f9(n, k) + 240 * n * f7(n, k) - 4032 * n * f5(n, k) + 32640 * n * f3(n, k) - 79360 * n * f1(n, k)\n",
    "expand((f11(n+1, k+1) + f11(n+1, k-1))/2 ) - expand(f11(n, k))"
   ]
  },
  {
   "cell_type": "code",
   "execution_count": 674,
   "id": "0f627091",
   "metadata": {},
   "outputs": [],
   "source": [
    "import functools\n",
    "\n",
    "\n",
    "def f(m):\n",
    "    if m < 0:\n",
    "        return lambda n, k: 0\n",
    "    if m == 0:\n",
    "        return lambda n, k: 1\n",
    "    elif m == 1:\n",
    "        return lambda n, k: k\n",
    "    else:\n",
    "        \n",
    "        def alternating_tangent(n):\n",
    "            # https://mathworld.wolfram.com/TangentNumber.html \n",
    "            return 2 ** (2*n) * (2**(2*n)-1) * Abs(bernoulli(2*n)) / (2*n)\n",
    "        \n",
    "        def R(n, k):\n",
    "            running_sum = 0\n",
    "            for j in range(1, round(m/2) + 1):\n",
    "                i = m - 2*j\n",
    "                running_sum += (-1)**(j) * alternating_tangent(j) * binomial(m-1, (2 * j - 1)) * f(i)(n, k)\n",
    "            return running_sum\n",
    "        \n",
    "        def fm(n, k):\n",
    "            return k * f(m-1)(n,k) + n * R(n, k)\n",
    "        \n",
    "        \n",
    "        return fm"
   ]
  },
  {
   "cell_type": "code",
   "execution_count": 700,
   "id": "1f48d7c9",
   "metadata": {},
   "outputs": [
    {
     "name": "stdout",
     "output_type": "stream",
     "text": [
      "k^{8} - 28 k^{6} n + 210 k^{4} n^{2} + 140 k^{4} n - 420 k^{2} n^{3} - 840 k^{2} n^{2} - 448 k^{2} n + 105 n^{4} + 420 n^{3} + 588 n^{2} + 272 n\n"
     ]
    }
   ],
   "source": [
    "print(latex(expand(f(8)(n,k))))"
   ]
  },
  {
   "cell_type": "code",
   "execution_count": 688,
   "id": "2c21c9ca",
   "metadata": {},
   "outputs": [
    {
     "data": {
      "text/latex": [
       "$\\displaystyle -9600$"
      ],
      "text/plain": [
       "-9600"
      ]
     },
     "execution_count": 688,
     "metadata": {},
     "output_type": "execute_result"
    }
   ],
   "source": [
    "f(6)(6,6)"
   ]
  },
  {
   "cell_type": "code",
   "execution_count": null,
   "id": "fb2d7ade",
   "metadata": {},
   "outputs": [],
   "source": []
  }
 ],
 "metadata": {
  "kernelspec": {
   "display_name": "Python 3 (ipykernel)",
   "language": "python",
   "name": "python3"
  },
  "language_info": {
   "codemirror_mode": {
    "name": "ipython",
    "version": 3
   },
   "file_extension": ".py",
   "mimetype": "text/x-python",
   "name": "python",
   "nbconvert_exporter": "python",
   "pygments_lexer": "ipython3",
   "version": "3.11.0rc2"
  }
 },
 "nbformat": 4,
 "nbformat_minor": 5
}
