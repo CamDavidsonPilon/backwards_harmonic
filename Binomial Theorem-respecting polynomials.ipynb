{
 "cells": [
  {
   "cell_type": "code",
   "execution_count": 1,
   "id": "ab663fcf",
   "metadata": {},
   "outputs": [],
   "source": [
    "from sympy import *"
   ]
  },
  {
   "cell_type": "code",
   "execution_count": 66,
   "id": "cc5e1c51",
   "metadata": {},
   "outputs": [],
   "source": [
    "x = symbols('x')\n",
    "k = symbols('k')\n",
    "a = symbols('a')\n",
    "n = symbols('n')"
   ]
  },
  {
   "cell_type": "code",
   "execution_count": 161,
   "id": "ff310a99",
   "metadata": {},
   "outputs": [],
   "source": [
    "import functools\n",
    "\n",
    "\n",
    "def bh(m):\n",
    "    if m < 0:\n",
    "        return lambda n, k: 0\n",
    "    if m == 0:\n",
    "        return lambda n, k: 1\n",
    "    elif m == 1:\n",
    "        return lambda n, k: k\n",
    "    else:\n",
    "        \n",
    "        def alternating_tangent(n):\n",
    "            # https://mathworld.wolfram.com/TangentNumber.html \n",
    "            return 2 ** (2*n) * (2**(2*n)-1) * Abs(bernoulli(2*n)) / (2*n)\n",
    "        \n",
    "        def R(n, k):\n",
    "            running_sum = 0\n",
    "            for j in range(1, round(m/2) + 1):\n",
    "                i = m - 2*j\n",
    "                running_sum += (-1)**(j) * alternating_tangent(j) * binomial(m-1, (2 * j - 1)) * bh(i)(n, k)\n",
    "            return running_sum\n",
    "        \n",
    "        def fm(n, k):\n",
    "            return k * bh(m-1)(n,k) + n * R(n, k)\n",
    "        \n",
    "        return fm\n",
    "    \n",
    "bh_ = lambda m: (lambda x: bh(m)(n, x)) # fixing n\n"
   ]
  },
  {
   "cell_type": "code",
   "execution_count": 167,
   "id": "e41ddfff",
   "metadata": {},
   "outputs": [],
   "source": [
    "def f(m):\n",
    "    def fm(n, k):\n",
    "        return (k + n) ** (m)\n",
    "    return fm\n",
    "\n",
    "f_ = lambda m: (lambda x: f(m)(n, x)) # fixing n\n"
   ]
  },
  {
   "cell_type": "code",
   "execution_count": 169,
   "id": "71c8dce8",
   "metadata": {},
   "outputs": [],
   "source": [
    "for s in [f_, bh_]:\n",
    "    assert expand(s(2)(x-2)) == expand(s(2)(x) - 2 * s(1)(x) * 2 + s(0)(x) * 4)\n",
    "    assert expand(s(3)(x+1)) == expand(s(3)(x) + 3 * s(2)(x) + 3 * s(1)(x) + s(0)(x))"
   ]
  },
  {
   "cell_type": "code",
   "execution_count": null,
   "id": "d4a6eae7",
   "metadata": {},
   "outputs": [],
   "source": []
  },
  {
   "cell_type": "code",
   "execution_count": null,
   "id": "efd1f6b4",
   "metadata": {},
   "outputs": [],
   "source": []
  }
 ],
 "metadata": {
  "kernelspec": {
   "display_name": "Python 3 (ipykernel)",
   "language": "python",
   "name": "python3"
  },
  "language_info": {
   "codemirror_mode": {
    "name": "ipython",
    "version": 3
   },
   "file_extension": ".py",
   "mimetype": "text/x-python",
   "name": "python",
   "nbconvert_exporter": "python",
   "pygments_lexer": "ipython3",
   "version": "3.11.0rc2"
  }
 },
 "nbformat": 4,
 "nbformat_minor": 5
}
